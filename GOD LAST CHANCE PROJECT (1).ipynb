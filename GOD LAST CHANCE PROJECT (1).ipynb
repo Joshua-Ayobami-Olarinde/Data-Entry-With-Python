{
 "cells": [
  {
   "cell_type": "code",
   "execution_count": 9,
   "id": "32863885",
   "metadata": {},
   "outputs": [],
   "source": [
    "studentSubjectRec = []\n",
    "AllStudPerformanceRec = []\n",
    "studperformanceRecord = []"
   ]
  },
  {
   "cell_type": "code",
   "execution_count": 55,
   "id": "b04178ea",
   "metadata": {},
   "outputs": [],
   "source": [
    "subjectRecList=[]"
   ]
  },
  {
   "cell_type": "code",
   "execution_count": 60,
   "id": "37f813c0",
   "metadata": {},
   "outputs": [
    {
     "name": "stdout",
     "output_type": "stream",
     "text": [
      "Enter student Name: Vera Abutu\n",
      "ID: GR-0485\n",
      "biology quiz Score: 112\n",
      "chemistry quiz Score: 51\n",
      "physics quiz Score: 61\n",
      "mathematics quiz Score: 74\n",
      "biology HW Score: 105\n",
      "chemistry HW Score: 102\n",
      "physics HW Score: 55\n",
      "mathematics HW Score: 50\n",
      "biology class attendace Score: 71\n",
      "chemistry class attendace Score: 96\n",
      "physics class attendace Score: 83\n",
      "mathematics class attendace Score: 93\n",
      "biology Exam Score: 51\n",
      "chemistry Exam Score: 24\n",
      "physics Exam Score: 98\n",
      "mathematics Exam Score: 94\n"
     ]
    }
   ],
   "source": [
    "##### Logic Input students and quiz\n",
    "\n",
    "# def studentSUJRes():\n",
    "studentName = input('Enter student Name: ')\n",
    "studID = input('ID: ')\n",
    "\n",
    "Bioquiz = int(input('biology quiz Score: '))\n",
    "Chemquiz =int(input('chemistry quiz Score: '))\n",
    "Phyquiz = int(input('physics quiz Score: '))\n",
    "Mathquiz = int(input('mathematics quiz Score: '))   \n",
    "\n",
    "BioHW = int(input('biology HW Score: '))\n",
    "ChemHW =int(input('chemistry HW Score: '))\n",
    "PhyHW = int(input('physics HW Score: '))\n",
    "MathHW = int(input('mathematics HW Score: '))\n",
    "\n",
    "BioClN = int(input('biology class attendace Score: '))\n",
    "ChemClN =int(input('chemistry class attendace Score: '))\n",
    "PhyClN = int(input('physics class attendace Score: '))\n",
    "MathClN = int(input('mathematics class attendace Score: '))\n",
    "\n",
    "\n",
    "BioExam = int(input('biology Exam Score: '))\n",
    "ChemExam =int(input('chemistry Exam Score: '))\n",
    "PhyExam = int(input('physics Exam Score: '))\n",
    "MathExam = int(input('mathematics Exam Score: '))\n"
   ]
  },
  {
   "cell_type": "code",
   "execution_count": null,
   "id": "8625d520",
   "metadata": {},
   "outputs": [],
   "source": [
    "# studentSUJRes()"
   ]
  },
  {
   "cell_type": "code",
   "execution_count": null,
   "id": "75b8e056",
   "metadata": {},
   "outputs": [],
   "source": [
    "# Bett James\tGR-0483\t127\t184\t52\t133\t135\t186\t142\t97\t17\t58\t29\t34\t46\t97\t73\t45\n",
    "# Namukolo Abrams\tGR-0484\t141\t177\t21\t136\t82\t170\t12\t180\t95\t57\t43\t48\t52\t41\t31\t31\n"
   ]
  },
  {
   "cell_type": "code",
   "execution_count": 61,
   "id": "d17951b1",
   "metadata": {},
   "outputs": [],
   "source": [
    "# calculator\n",
    "\n",
    "quizTotal = 190\n",
    "HWTotal = 190\n",
    "ClNTotal = 96\n",
    "ExamTotal = 100\n",
    "TotalScore = 100\n",
    "\n",
    "BioAvrge = round(((Bioquiz/quizTotal)*30) + ((BioHW/HWTotal)*15) + ((BioClN/ClNTotal)*12) \\\n",
    "          + ((BioExam/ExamTotal)*43),2)\n",
    "\n",
    "chemAvrge = round(((Chemquiz/quizTotal)*30) + ((ChemHW/HWTotal)*15) + ((ChemClN/ClNTotal)*12) \\\n",
    "          + ((ChemExam/ExamTotal)*43),2)\n",
    "\n",
    "phyAvrge = round(((Phyquiz/quizTotal)*30) + ((PhyHW/HWTotal)*15) + ((PhyClN/ClNTotal)*12) \\\n",
    "          + ((PhyExam/ExamTotal)*43),2)\n",
    "\n",
    "\n",
    "mathAvrge = round(((Mathquiz/quizTotal)*30) + ((MathHW/HWTotal)*15) + ((MathClN/ClNTotal)*12) \\\n",
    "          + ((MathExam/ExamTotal)*43),2)\n"
   ]
  },
  {
   "cell_type": "code",
   "execution_count": 62,
   "id": "4124fb53",
   "metadata": {},
   "outputs": [],
   "source": [
    "AverageScore = round((chemAvrge + BioAvrge + phyAvrge + mathAvrge)/4,3)\n"
   ]
  },
  {
   "cell_type": "code",
   "execution_count": 63,
   "id": "74840637",
   "metadata": {},
   "outputs": [],
   "source": [
    "# def grading(AverageScore,TotalScore):\n",
    "GPA = round((AverageScore/TotalScore)*5,2)"
   ]
  },
  {
   "cell_type": "code",
   "execution_count": 64,
   "id": "9fd99c53",
   "metadata": {},
   "outputs": [
    {
     "data": {
      "text/plain": [
       "2.87"
      ]
     },
     "execution_count": 64,
     "metadata": {},
     "output_type": "execute_result"
    }
   ],
   "source": [
    "GPA"
   ]
  },
  {
   "cell_type": "code",
   "execution_count": 65,
   "id": "bb6d6e42",
   "metadata": {},
   "outputs": [],
   "source": [
    "# Grading\n",
    "\n",
    "def grading(AverageScore):\n",
    "    GradeList = ['A','B','C','D','E','F']\n",
    "\n",
    "    if AverageScore >90:\n",
    "         return GradeList[0]\n",
    "        \n",
    "    elif AverageScore >75 and AverageScore < 90:\n",
    "        return GradeList[1]\n",
    "\n",
    "    elif AverageScore >64 and AverageScore < 75:\n",
    "        return GradeList[2]\n",
    "\n",
    "    elif AverageScore >54 and AverageScore < 65:\n",
    "        return GradeList[3]\n",
    "\n",
    "    elif AverageScore >49 and AverageScore < 55:\n",
    "        return GradeList[4]\n",
    "\n",
    "    else:\n",
    "        return GradeList[5]\n"
   ]
  },
  {
   "cell_type": "code",
   "execution_count": 66,
   "id": "43019f16",
   "metadata": {},
   "outputs": [],
   "source": [
    "def status(AverageScore):\n",
    "    statusList = ['Pass','Retake','Fail']\n",
    "    \n",
    "    if AverageScore >90:\n",
    "        return statusList[0]\n",
    "    \n",
    "    elif AverageScore >75 and AverageScore < 90:\n",
    "        return statusList[0]\n",
    "\n",
    "    elif AverageScore >64 and AverageScore < 75:\n",
    "        return statusList[0]\n",
    "\n",
    "    elif AverageScore >54 and AverageScore < 65:\n",
    "        return statusList[0]\n",
    "\n",
    "    elif AverageScore >49 and AverageScore < 55:\n",
    "        return statusList[1]\n",
    "\n",
    "    else:\n",
    "        return statusList[2]\n",
    "    \n",
    "grade = grading(AverageScore)\n",
    "status =status(AverageScore)"
   ]
  },
  {
   "cell_type": "code",
   "execution_count": 67,
   "id": "ef9699a4",
   "metadata": {},
   "outputs": [
    {
     "data": {
      "text/plain": [
       "'D'"
      ]
     },
     "execution_count": 67,
     "metadata": {},
     "output_type": "execute_result"
    }
   ],
   "source": [
    "grade"
   ]
  },
  {
   "cell_type": "code",
   "execution_count": 68,
   "id": "52441573",
   "metadata": {},
   "outputs": [
    {
     "data": {
      "text/plain": [
       "'Pass'"
      ]
     },
     "execution_count": 68,
     "metadata": {},
     "output_type": "execute_result"
    }
   ],
   "source": [
    "status"
   ]
  },
  {
   "cell_type": "code",
   "execution_count": null,
   "id": "a9948a9e",
   "metadata": {},
   "outputs": [],
   "source": [
    "#studperformanceRecord"
   ]
  },
  {
   "cell_type": "code",
   "execution_count": 69,
   "id": "c0b5d234",
   "metadata": {},
   "outputs": [],
   "source": [
    "fullstudperformanceRecord  ={\"studentName\":studentName, 'studID':studID, \"AvgScore\": AverageScore, \"GPA\":GPA,\\\n",
    "                        \"Grade\": grade, \"status\": status}\n",
    "studperformanceRecord.append(fullstudperformanceRecord)"
   ]
  },
  {
   "cell_type": "code",
   "execution_count": 70,
   "id": "201fa963",
   "metadata": {},
   "outputs": [
    {
     "data": {
      "text/plain": [
       "{'studentName': 'Vera Abutu',\n",
       " 'studID': 'GR-0485',\n",
       " 'AvgScore': 57.345,\n",
       " 'GPA': 2.87,\n",
       " 'Grade': 'D',\n",
       " 'status': 'Pass'}"
      ]
     },
     "execution_count": 70,
     "metadata": {},
     "output_type": "execute_result"
    }
   ],
   "source": [
    "fullstudperformanceRecord"
   ]
  },
  {
   "cell_type": "code",
   "execution_count": 71,
   "id": "d01c8807",
   "metadata": {},
   "outputs": [],
   "source": [
    "# Each student's performance records\n",
    "studentRecords = {\"Name\":studentName, 'ID':studID,\n",
    "                 \"Biology\":{\"Quiz\":Bioquiz, \"HW\":BioHW, \"ClN\":BioClN, \"Exam\":BioExam, \"BioAvg\":BioAvrge},\\\n",
    "                 \"Chemistry\":{\"Quiz\":Chemquiz, \"HW\":ChemHW, \"ClN\":ChemClN, \"Exam\":ChemExam, \"ChemAvg\":chemAvrge},\\\n",
    "                 \"Physics\":{\"Quiz\":Phyquiz, \"HW\":PhyHW, \"ClN\":PhyClN, \"Exam\":PhyExam, \"ChemAvg\":phyAvrge},\\\n",
    "                 \"Mathematics\":{\"Quiz\":Mathquiz, \"HW\":MathHW, \"ClN\":MathClN, \"Exam\":MathExam, \"ChemAvg\":mathAvrge}}\n",
    "\n",
    "studentSubjectRec.append(studentRecords)"
   ]
  },
  {
   "cell_type": "code",
   "execution_count": 72,
   "id": "0c9d363e",
   "metadata": {},
   "outputs": [
    {
     "data": {
      "text/plain": [
       "{'Name': 'Vera Abutu',\n",
       " 'ID': 'GR-0485',\n",
       " 'Biology': {'Quiz': 112, 'HW': 105, 'ClN': 71, 'Exam': 51, 'BioAvg': 56.78},\n",
       " 'Chemistry': {'Quiz': 51, 'HW': 102, 'ClN': 96, 'Exam': 24, 'ChemAvg': 38.43},\n",
       " 'Physics': {'Quiz': 61, 'HW': 55, 'ClN': 83, 'Exam': 98, 'ChemAvg': 66.49},\n",
       " 'Mathematics': {'Quiz': 74,\n",
       "  'HW': 50,\n",
       "  'ClN': 93,\n",
       "  'Exam': 94,\n",
       "  'ChemAvg': 67.68}}"
      ]
     },
     "execution_count": 72,
     "metadata": {},
     "output_type": "execute_result"
    }
   ],
   "source": [
    "studentRecords"
   ]
  },
  {
   "cell_type": "code",
   "execution_count": 73,
   "id": "9dd33482",
   "metadata": {},
   "outputs": [],
   "source": [
    "subjectRec = {\"Chemistry\": {studentName:{\"Quiz\":Chemquiz, \"HW\":ChemHW, \"ClN\":ChemClN, \"Exam\":ChemExam, \"ChemAvg\":chemAvrge },\\\n",
    "                           },\n",
    "             \"Biology\":{studentName:{\"Quiz\":Bioquiz, \"HW\":BioHW, \"ClN\":BioClN, \"Exam\":BioExam, \"BioAvg\":BioAvrge}},\\\n",
    "             \"Physics\": {studentName: {\"Quiz\":Phyquiz, \"HW\":PhyHW, \"ClN\":PhyClN, \"Exam\":PhyExam, \"ChemAvg\":phyAvrge}},\\\n",
    "             \"Mathematics\":{studentName: {\"Quiz\":Mathquiz, \"HW\":MathHW, \"ClN\":MathClN, \"Exam\":MathExam, \"ChemAvg\":mathAvrge}}}\n",
    "\n",
    "subjectRecList.append(subjectRec)"
   ]
  },
  {
   "cell_type": "code",
   "execution_count": 74,
   "id": "61c3efa0",
   "metadata": {},
   "outputs": [
    {
     "data": {
      "text/plain": [
       "{'Chemistry': {'Vera Abutu': {'Quiz': 51,\n",
       "   'HW': 102,\n",
       "   'ClN': 96,\n",
       "   'Exam': 24,\n",
       "   'ChemAvg': 38.43}},\n",
       " 'Biology': {'Vera Abutu': {'Quiz': 112,\n",
       "   'HW': 105,\n",
       "   'ClN': 71,\n",
       "   'Exam': 51,\n",
       "   'BioAvg': 56.78}},\n",
       " 'Physics': {'Vera Abutu': {'Quiz': 61,\n",
       "   'HW': 55,\n",
       "   'ClN': 83,\n",
       "   'Exam': 98,\n",
       "   'ChemAvg': 66.49}},\n",
       " 'Mathematics': {'Vera Abutu': {'Quiz': 74,\n",
       "   'HW': 50,\n",
       "   'ClN': 93,\n",
       "   'Exam': 94,\n",
       "   'ChemAvg': 67.68}}}"
      ]
     },
     "execution_count": 74,
     "metadata": {},
     "output_type": "execute_result"
    }
   ],
   "source": [
    "subjectRec"
   ]
  },
  {
   "cell_type": "code",
   "execution_count": 75,
   "id": "ad5c54cd",
   "metadata": {},
   "outputs": [],
   "source": [
    "# All students Record\n",
    "AllStudPerRec = {\"Name\":studentName, 'ID':studID,\n",
    "            \"Bio Quiz\":Bioquiz, \"Chem Quiz\":Chemquiz, \"Phy Quiz\":Phyquiz, \"Math Quiz\":Mathquiz,\\\n",
    "            \"Bio Hw\":BioHW, \"Chem Hw\":ChemHW, \"Phy Hw\":PhyHW, \"Math Hw\":MathHW,\\\n",
    "            \"Bio Attnd\":BioClN, \"Chem Attnd\":ChemClN, \"Phy Attnd\":PhyClN, \"Math Attnd\":MathClN,\\\n",
    "            \"Bio Exam\":BioExam, \"Chem Exam\":ChemExam, \"Phy Exam\":PhyExam, \"Math Exam\":MathExam,\n",
    "            \"Bio Avg\":BioAvrge, \"Chem Avg\":chemAvrge, \"Phy Avg\":phyAvrge, \"Math Avg\":mathAvrge,\\\n",
    "             \"Avg Score\":AverageScore, \"GPA\":GPA, \"Grade\":grade, \"status\":status}\n",
    "             \n",
    "AllStudPerformanceRec.append(AllStudPerRec)"
   ]
  },
  {
   "cell_type": "code",
   "execution_count": 76,
   "id": "5831a40d",
   "metadata": {},
   "outputs": [
    {
     "data": {
      "text/plain": [
       "{'Name': 'Vera Abutu',\n",
       " 'ID': 'GR-0485',\n",
       " 'Bio Quiz': 112,\n",
       " 'Chem Quiz': 51,\n",
       " 'Phy Quiz': 61,\n",
       " 'Math Quiz': 74,\n",
       " 'Bio Hw': 105,\n",
       " 'Chem Hw': 102,\n",
       " 'Phy Hw': 55,\n",
       " 'Math Hw': 50,\n",
       " 'Bio Attnd': 71,\n",
       " 'Chem Attnd': 96,\n",
       " 'Phy Attnd': 83,\n",
       " 'Math Attnd': 93,\n",
       " 'Bio Exam': 51,\n",
       " 'Chem Exam': 24,\n",
       " 'Phy Exam': 98,\n",
       " 'Math Exam': 94,\n",
       " 'Bio Avg': 56.78,\n",
       " 'Chem Avg': 38.43,\n",
       " 'Phy Avg': 66.49,\n",
       " 'Math Avg': 67.68,\n",
       " 'Avg Score': 57.345,\n",
       " 'GPA': 2.87,\n",
       " 'Grade': 'D',\n",
       " 'status': 'Pass'}"
      ]
     },
     "execution_count": 76,
     "metadata": {},
     "output_type": "execute_result"
    }
   ],
   "source": [
    "AllStudPerRec"
   ]
  },
  {
   "cell_type": "code",
   "execution_count": 93,
   "id": "2455f33a",
   "metadata": {},
   "outputs": [
    {
     "name": "stdout",
     "output_type": "stream",
     "text": [
      "[{'Name': 'Bett James', 'ID': 'GR-0438', 'Biology': {'Quiz': 184, 'HW': 186, 'ClN': 58, 'Exam': 97, 'BioAvg': 92.7}, 'Chemistry': {'Quiz': 127, 'HW': 135, 'ClN': 17, 'Exam': 46, 'ChemAvg': 52.62}, 'Physics': {'Quiz': 52, 'HW': 142, 'ClN': 29, 'Exam': 73, 'ChemAvg': 54.44}, 'Mathematics': {'Quiz': 133, 'HW': 97, 'ClN': 34, 'Exam': 45, 'ChemAvg': 52.26}}, {'Name': 'Namukolo Abrams', 'ID': 'GR-0484', 'Biology': {'Quiz': 177, 'HW': 170, 'ClN': 57, 'Exam': 41, 'BioAvg': 66.12}, 'Chemistry': {'Quiz': 141, 'HW': 82, 'ClN': 95, 'Exam': 52, 'ChemAvg': 62.97}, 'Physics': {'Quiz': 21, 'HW': 12, 'ClN': 43, 'Exam': 31, 'ChemAvg': 22.97}, 'Mathematics': {'Quiz': 136, 'HW': 180, 'ClN': 48, 'Exam': 31, 'ChemAvg': 55.01}}, {'Name': 'Vera Abutu', 'ID': 'GR-0485', 'Biology': {'Quiz': 112, 'HW': 105, 'ClN': 71, 'Exam': 51, 'BioAvg': 56.78}, 'Chemistry': {'Quiz': 51, 'HW': 102, 'ClN': 96, 'Exam': 24, 'ChemAvg': 38.43}, 'Physics': {'Quiz': 61, 'HW': 55, 'ClN': 83, 'Exam': 98, 'ChemAvg': 66.49}, 'Mathematics': {'Quiz': 74, 'HW': 50, 'ClN': 93, 'Exam': 94, 'ChemAvg': 67.68}}]\n",
      "{'studentName': 'Vera Abutu', 'studID': 'GR-0485', 'AvgScore': 57.345, 'GPA': 2.87, 'Grade': 'D', 'status': 'Pass'}\n",
      "[{'Name': 'Bett James', 'ID': 'GR-0438', 'Bio Quiz': 184, 'Chem Quiz': 127, 'Phy Quiz': 52, 'Math Quiz': 133, 'Bio Hw': 186, 'Chem Hw': 135, 'Phy Hw': 142, 'Math Hw': 97, 'Bio Attnd': 58, 'Chem Attnd': 17, 'Phy Attnd': 29, 'Math Attnd': 34, 'Bio Exam': 97, 'Chem Exam': 46, 'Phy Exam': 73, 'Math Exam': 45, 'Bio Avg': 92.7, 'Chem Avg': 52.62, 'Phy Avg': 54.44, 'Math Avg': 52.26, 'Avg Score': 63.005, 'GPA': 3.15, 'Grade': 'D', 'status': 'Pass'}, {'Name': 'Namukolo Abrams', 'ID': 'GR-0484', 'Bio Quiz': 177, 'Chem Quiz': 141, 'Phy Quiz': 21, 'Math Quiz': 136, 'Bio Hw': 170, 'Chem Hw': 82, 'Phy Hw': 12, 'Math Hw': 180, 'Bio Attnd': 57, 'Chem Attnd': 95, 'Phy Attnd': 43, 'Math Attnd': 48, 'Bio Exam': 41, 'Chem Exam': 52, 'Phy Exam': 31, 'Math Exam': 31, 'Bio Avg': 66.12, 'Chem Avg': 62.97, 'Phy Avg': 22.97, 'Math Avg': 55.01, 'Avg Score': 51.767, 'GPA': 2.59, 'Grade': 'E', 'status': 'Retake'}, {'Name': 'Vera Abutu', 'ID': 'GR-0485', 'Bio Quiz': 112, 'Chem Quiz': 51, 'Phy Quiz': 61, 'Math Quiz': 74, 'Bio Hw': 105, 'Chem Hw': 102, 'Phy Hw': 55, 'Math Hw': 50, 'Bio Attnd': 71, 'Chem Attnd': 96, 'Phy Attnd': 83, 'Math Attnd': 93, 'Bio Exam': 51, 'Chem Exam': 24, 'Phy Exam': 98, 'Math Exam': 94, 'Bio Avg': 56.78, 'Chem Avg': 38.43, 'Phy Avg': 66.49, 'Math Avg': 67.68, 'Avg Score': 57.345, 'GPA': 2.87, 'Grade': 'D', 'status': 'Pass'}]\n"
     ]
    }
   ],
   "source": [
    "print(studentSubjectRec)\n",
    "print(fullstudperformanceRecord)\n",
    "print(AllStudPerformanceRec)\n"
   ]
  },
  {
   "cell_type": "code",
   "execution_count": 78,
   "id": "9c2003a9",
   "metadata": {},
   "outputs": [
    {
     "name": "stdout",
     "output_type": "stream",
     "text": [
      "[{'Chemistry': {'Namukolo Abrams': {'Quiz': 141, 'HW': 82, 'ClN': 95, 'Exam': 52, 'ChemAvg': 62.97}}, 'Biology': {'Namukolo Abrams': {'Quiz': 177, 'HW': 170, 'ClN': 57, 'Exam': 41, 'BioAvg': 66.12}}, 'Physics': {'Namukolo Abrams': {'Quiz': 21, 'HW': 12, 'ClN': 43, 'Exam': 31, 'ChemAvg': 22.97}}, 'Mathematics': {'Namukolo Abrams': {'Quiz': 136, 'HW': 180, 'ClN': 48, 'Exam': 31, 'ChemAvg': 55.01}}}, {'Chemistry': {'Vera Abutu': {'Quiz': 51, 'HW': 102, 'ClN': 96, 'Exam': 24, 'ChemAvg': 38.43}}, 'Biology': {'Vera Abutu': {'Quiz': 112, 'HW': 105, 'ClN': 71, 'Exam': 51, 'BioAvg': 56.78}}, 'Physics': {'Vera Abutu': {'Quiz': 61, 'HW': 55, 'ClN': 83, 'Exam': 98, 'ChemAvg': 66.49}}, 'Mathematics': {'Vera Abutu': {'Quiz': 74, 'HW': 50, 'ClN': 93, 'Exam': 94, 'ChemAvg': 67.68}}}]\n"
     ]
    }
   ],
   "source": [
    "print(subjectRecList)"
   ]
  },
  {
   "cell_type": "code",
   "execution_count": 94,
   "id": "1ff79fbb",
   "metadata": {},
   "outputs": [],
   "source": [
    "import pandas as pd\n",
    "df = pd.DataFrame(AllStudPerformanceRec)"
   ]
  },
  {
   "cell_type": "code",
   "execution_count": 95,
   "id": "b8ee7998",
   "metadata": {},
   "outputs": [
    {
     "data": {
      "text/html": [
       "<div>\n",
       "<style scoped>\n",
       "    .dataframe tbody tr th:only-of-type {\n",
       "        vertical-align: middle;\n",
       "    }\n",
       "\n",
       "    .dataframe tbody tr th {\n",
       "        vertical-align: top;\n",
       "    }\n",
       "\n",
       "    .dataframe thead th {\n",
       "        text-align: right;\n",
       "    }\n",
       "</style>\n",
       "<table border=\"1\" class=\"dataframe\">\n",
       "  <thead>\n",
       "    <tr style=\"text-align: right;\">\n",
       "      <th></th>\n",
       "      <th>Name</th>\n",
       "      <th>ID</th>\n",
       "      <th>Bio Quiz</th>\n",
       "      <th>Chem Quiz</th>\n",
       "      <th>Phy Quiz</th>\n",
       "      <th>Math Quiz</th>\n",
       "      <th>Bio Hw</th>\n",
       "      <th>Chem Hw</th>\n",
       "      <th>Phy Hw</th>\n",
       "      <th>Math Hw</th>\n",
       "      <th>...</th>\n",
       "      <th>Phy Exam</th>\n",
       "      <th>Math Exam</th>\n",
       "      <th>Bio Avg</th>\n",
       "      <th>Chem Avg</th>\n",
       "      <th>Phy Avg</th>\n",
       "      <th>Math Avg</th>\n",
       "      <th>Avg Score</th>\n",
       "      <th>GPA</th>\n",
       "      <th>Grade</th>\n",
       "      <th>status</th>\n",
       "    </tr>\n",
       "  </thead>\n",
       "  <tbody>\n",
       "    <tr>\n",
       "      <th>0</th>\n",
       "      <td>Bett James</td>\n",
       "      <td>GR-0438</td>\n",
       "      <td>184</td>\n",
       "      <td>127</td>\n",
       "      <td>52</td>\n",
       "      <td>133</td>\n",
       "      <td>186</td>\n",
       "      <td>135</td>\n",
       "      <td>142</td>\n",
       "      <td>97</td>\n",
       "      <td>...</td>\n",
       "      <td>73</td>\n",
       "      <td>45</td>\n",
       "      <td>92.70</td>\n",
       "      <td>52.62</td>\n",
       "      <td>54.44</td>\n",
       "      <td>52.26</td>\n",
       "      <td>63.005</td>\n",
       "      <td>3.15</td>\n",
       "      <td>D</td>\n",
       "      <td>Pass</td>\n",
       "    </tr>\n",
       "    <tr>\n",
       "      <th>1</th>\n",
       "      <td>Namukolo Abrams</td>\n",
       "      <td>GR-0484</td>\n",
       "      <td>177</td>\n",
       "      <td>141</td>\n",
       "      <td>21</td>\n",
       "      <td>136</td>\n",
       "      <td>170</td>\n",
       "      <td>82</td>\n",
       "      <td>12</td>\n",
       "      <td>180</td>\n",
       "      <td>...</td>\n",
       "      <td>31</td>\n",
       "      <td>31</td>\n",
       "      <td>66.12</td>\n",
       "      <td>62.97</td>\n",
       "      <td>22.97</td>\n",
       "      <td>55.01</td>\n",
       "      <td>51.767</td>\n",
       "      <td>2.59</td>\n",
       "      <td>E</td>\n",
       "      <td>Retake</td>\n",
       "    </tr>\n",
       "    <tr>\n",
       "      <th>2</th>\n",
       "      <td>Vera Abutu</td>\n",
       "      <td>GR-0485</td>\n",
       "      <td>112</td>\n",
       "      <td>51</td>\n",
       "      <td>61</td>\n",
       "      <td>74</td>\n",
       "      <td>105</td>\n",
       "      <td>102</td>\n",
       "      <td>55</td>\n",
       "      <td>50</td>\n",
       "      <td>...</td>\n",
       "      <td>98</td>\n",
       "      <td>94</td>\n",
       "      <td>56.78</td>\n",
       "      <td>38.43</td>\n",
       "      <td>66.49</td>\n",
       "      <td>67.68</td>\n",
       "      <td>57.345</td>\n",
       "      <td>2.87</td>\n",
       "      <td>D</td>\n",
       "      <td>Pass</td>\n",
       "    </tr>\n",
       "  </tbody>\n",
       "</table>\n",
       "<p>3 rows × 26 columns</p>\n",
       "</div>"
      ],
      "text/plain": [
       "              Name       ID  Bio Quiz  Chem Quiz  Phy Quiz  Math Quiz  Bio Hw  \\\n",
       "0       Bett James  GR-0438       184        127        52        133     186   \n",
       "1  Namukolo Abrams  GR-0484       177        141        21        136     170   \n",
       "2       Vera Abutu  GR-0485       112         51        61         74     105   \n",
       "\n",
       "   Chem Hw  Phy Hw  Math Hw  ...  Phy Exam  Math Exam  Bio Avg  Chem Avg  \\\n",
       "0      135     142       97  ...        73         45    92.70     52.62   \n",
       "1       82      12      180  ...        31         31    66.12     62.97   \n",
       "2      102      55       50  ...        98         94    56.78     38.43   \n",
       "\n",
       "   Phy Avg  Math Avg  Avg Score   GPA  Grade  status  \n",
       "0    54.44     52.26     63.005  3.15      D    Pass  \n",
       "1    22.97     55.01     51.767  2.59      E  Retake  \n",
       "2    66.49     67.68     57.345  2.87      D    Pass  \n",
       "\n",
       "[3 rows x 26 columns]"
      ]
     },
     "execution_count": 95,
     "metadata": {},
     "output_type": "execute_result"
    }
   ],
   "source": [
    "#  we just need to balance this table\n",
    "df"
   ]
  },
  {
   "cell_type": "code",
   "execution_count": null,
   "id": "1e3f65af",
   "metadata": {},
   "outputs": [],
   "source": [
    "AllStudPerformanceRec['status']"
   ]
  },
  {
   "cell_type": "code",
   "execution_count": null,
   "id": "ad4eb911",
   "metadata": {},
   "outputs": [],
   "source": []
  },
  {
   "cell_type": "code",
   "execution_count": 97,
   "id": "16ea4b01",
   "metadata": {},
   "outputs": [
    {
     "name": "stdout",
     "output_type": "stream",
     "text": [
      "                      ID  Bio Quiz  Chem Quiz  Phy Quiz  Math Quiz  Bio Hw  \\\n",
      "Name                                                                         \n",
      "Bett James       GR-0438       184        127        52        133     186   \n",
      "Namukolo Abrams  GR-0484       177        141        21        136     170   \n",
      "Vera Abutu       GR-0485       112         51        61         74     105   \n",
      "\n",
      "                 Chem Hw  Phy Hw  Math Hw  Bio Attnd  ...  Phy Exam  \\\n",
      "Name                                                  ...             \n",
      "Bett James           135     142       97         58  ...        73   \n",
      "Namukolo Abrams       82      12      180         57  ...        31   \n",
      "Vera Abutu           102      55       50         71  ...        98   \n",
      "\n",
      "                 Math Exam  Bio Avg  Chem Avg  Phy Avg  Math Avg  Avg Score  \\\n",
      "Name                                                                          \n",
      "Bett James              45    92.70     52.62    54.44     52.26     63.005   \n",
      "Namukolo Abrams         31    66.12     62.97    22.97     55.01     51.767   \n",
      "Vera Abutu              94    56.78     38.43    66.49     67.68     57.345   \n",
      "\n",
      "                  GPA  Grade  status  \n",
      "Name                                  \n",
      "Bett James       3.15      D    Pass  \n",
      "Namukolo Abrams  2.59      E  Retake  \n",
      "Vera Abutu       2.87      D    Pass  \n",
      "\n",
      "[3 rows x 25 columns]\n"
     ]
    }
   ],
   "source": [
    "df1 = df.set_index(\"Name\")\n",
    "\n",
    "print(df1)"
   ]
  },
  {
   "cell_type": "code",
   "execution_count": 98,
   "id": "9b75aa9a",
   "metadata": {},
   "outputs": [
    {
     "data": {
      "text/html": [
       "<div>\n",
       "<style scoped>\n",
       "    .dataframe tbody tr th:only-of-type {\n",
       "        vertical-align: middle;\n",
       "    }\n",
       "\n",
       "    .dataframe tbody tr th {\n",
       "        vertical-align: top;\n",
       "    }\n",
       "\n",
       "    .dataframe thead th {\n",
       "        text-align: right;\n",
       "    }\n",
       "</style>\n",
       "<table border=\"1\" class=\"dataframe\">\n",
       "  <thead>\n",
       "    <tr style=\"text-align: right;\">\n",
       "      <th></th>\n",
       "      <th>ID</th>\n",
       "      <th>Bio Quiz</th>\n",
       "      <th>Chem Quiz</th>\n",
       "      <th>Phy Quiz</th>\n",
       "      <th>Math Quiz</th>\n",
       "      <th>Bio Hw</th>\n",
       "      <th>Chem Hw</th>\n",
       "      <th>Phy Hw</th>\n",
       "      <th>Math Hw</th>\n",
       "      <th>Bio Attnd</th>\n",
       "      <th>...</th>\n",
       "      <th>Phy Exam</th>\n",
       "      <th>Math Exam</th>\n",
       "      <th>Bio Avg</th>\n",
       "      <th>Chem Avg</th>\n",
       "      <th>Phy Avg</th>\n",
       "      <th>Math Avg</th>\n",
       "      <th>Avg Score</th>\n",
       "      <th>GPA</th>\n",
       "      <th>Grade</th>\n",
       "      <th>status</th>\n",
       "    </tr>\n",
       "    <tr>\n",
       "      <th>Name</th>\n",
       "      <th></th>\n",
       "      <th></th>\n",
       "      <th></th>\n",
       "      <th></th>\n",
       "      <th></th>\n",
       "      <th></th>\n",
       "      <th></th>\n",
       "      <th></th>\n",
       "      <th></th>\n",
       "      <th></th>\n",
       "      <th></th>\n",
       "      <th></th>\n",
       "      <th></th>\n",
       "      <th></th>\n",
       "      <th></th>\n",
       "      <th></th>\n",
       "      <th></th>\n",
       "      <th></th>\n",
       "      <th></th>\n",
       "      <th></th>\n",
       "      <th></th>\n",
       "    </tr>\n",
       "  </thead>\n",
       "  <tbody>\n",
       "    <tr>\n",
       "      <th>Bett James</th>\n",
       "      <td>GR-0438</td>\n",
       "      <td>184</td>\n",
       "      <td>127</td>\n",
       "      <td>52</td>\n",
       "      <td>133</td>\n",
       "      <td>186</td>\n",
       "      <td>135</td>\n",
       "      <td>142</td>\n",
       "      <td>97</td>\n",
       "      <td>58</td>\n",
       "      <td>...</td>\n",
       "      <td>73</td>\n",
       "      <td>45</td>\n",
       "      <td>92.70</td>\n",
       "      <td>52.62</td>\n",
       "      <td>54.44</td>\n",
       "      <td>52.26</td>\n",
       "      <td>63.005</td>\n",
       "      <td>3.15</td>\n",
       "      <td>D</td>\n",
       "      <td>Pass</td>\n",
       "    </tr>\n",
       "    <tr>\n",
       "      <th>Namukolo Abrams</th>\n",
       "      <td>GR-0484</td>\n",
       "      <td>177</td>\n",
       "      <td>141</td>\n",
       "      <td>21</td>\n",
       "      <td>136</td>\n",
       "      <td>170</td>\n",
       "      <td>82</td>\n",
       "      <td>12</td>\n",
       "      <td>180</td>\n",
       "      <td>57</td>\n",
       "      <td>...</td>\n",
       "      <td>31</td>\n",
       "      <td>31</td>\n",
       "      <td>66.12</td>\n",
       "      <td>62.97</td>\n",
       "      <td>22.97</td>\n",
       "      <td>55.01</td>\n",
       "      <td>51.767</td>\n",
       "      <td>2.59</td>\n",
       "      <td>E</td>\n",
       "      <td>Retake</td>\n",
       "    </tr>\n",
       "    <tr>\n",
       "      <th>Vera Abutu</th>\n",
       "      <td>GR-0485</td>\n",
       "      <td>112</td>\n",
       "      <td>51</td>\n",
       "      <td>61</td>\n",
       "      <td>74</td>\n",
       "      <td>105</td>\n",
       "      <td>102</td>\n",
       "      <td>55</td>\n",
       "      <td>50</td>\n",
       "      <td>71</td>\n",
       "      <td>...</td>\n",
       "      <td>98</td>\n",
       "      <td>94</td>\n",
       "      <td>56.78</td>\n",
       "      <td>38.43</td>\n",
       "      <td>66.49</td>\n",
       "      <td>67.68</td>\n",
       "      <td>57.345</td>\n",
       "      <td>2.87</td>\n",
       "      <td>D</td>\n",
       "      <td>Pass</td>\n",
       "    </tr>\n",
       "  </tbody>\n",
       "</table>\n",
       "<p>3 rows × 25 columns</p>\n",
       "</div>"
      ],
      "text/plain": [
       "                      ID  Bio Quiz  Chem Quiz  Phy Quiz  Math Quiz  Bio Hw  \\\n",
       "Name                                                                         \n",
       "Bett James       GR-0438       184        127        52        133     186   \n",
       "Namukolo Abrams  GR-0484       177        141        21        136     170   \n",
       "Vera Abutu       GR-0485       112         51        61         74     105   \n",
       "\n",
       "                 Chem Hw  Phy Hw  Math Hw  Bio Attnd  ...  Phy Exam  \\\n",
       "Name                                                  ...             \n",
       "Bett James           135     142       97         58  ...        73   \n",
       "Namukolo Abrams       82      12      180         57  ...        31   \n",
       "Vera Abutu           102      55       50         71  ...        98   \n",
       "\n",
       "                 Math Exam  Bio Avg  Chem Avg  Phy Avg  Math Avg  Avg Score  \\\n",
       "Name                                                                          \n",
       "Bett James              45    92.70     52.62    54.44     52.26     63.005   \n",
       "Namukolo Abrams         31    66.12     62.97    22.97     55.01     51.767   \n",
       "Vera Abutu              94    56.78     38.43    66.49     67.68     57.345   \n",
       "\n",
       "                  GPA  Grade  status  \n",
       "Name                                  \n",
       "Bett James       3.15      D    Pass  \n",
       "Namukolo Abrams  2.59      E  Retake  \n",
       "Vera Abutu       2.87      D    Pass  \n",
       "\n",
       "[3 rows x 25 columns]"
      ]
     },
     "execution_count": 98,
     "metadata": {},
     "output_type": "execute_result"
    }
   ],
   "source": [
    "df1"
   ]
  },
  {
   "cell_type": "code",
   "execution_count": 106,
   "id": "301ed639",
   "metadata": {},
   "outputs": [
    {
     "name": "stdout",
     "output_type": "stream",
     "text": [
      "                 ID  Bio Quiz  Chem Quiz  Phy Quiz  Math Quiz  Bio Hw  \\\n",
      "Name                                                                    \n",
      "Bett James  GR-0438       184        127        52        133     186   \n",
      "\n",
      "            Chem Hw  Phy Hw  Math Hw  Bio Attnd  ...  Phy Exam  Math Exam  \\\n",
      "Name                                             ...                        \n",
      "Bett James      135     142       97         58  ...        73         45   \n",
      "\n",
      "            Bio Avg  Chem Avg  Phy Avg  Math Avg  Avg Score   GPA  Grade  \\\n",
      "Name                                                                       \n",
      "Bett James     92.7     52.62    54.44     52.26     63.005  3.15      D   \n",
      "\n",
      "            status  \n",
      "Name                \n",
      "Bett James    Pass  \n",
      "\n",
      "[1 rows x 25 columns]\n"
     ]
    }
   ],
   "source": [
    "BL = df1.loc[[\"Bett James\"]]\n",
    "\n",
    "print(BL)"
   ]
  },
  {
   "cell_type": "code",
   "execution_count": 107,
   "id": "2aeb82b1",
   "metadata": {},
   "outputs": [
    {
     "data": {
      "text/html": [
       "<div>\n",
       "<style scoped>\n",
       "    .dataframe tbody tr th:only-of-type {\n",
       "        vertical-align: middle;\n",
       "    }\n",
       "\n",
       "    .dataframe tbody tr th {\n",
       "        vertical-align: top;\n",
       "    }\n",
       "\n",
       "    .dataframe thead th {\n",
       "        text-align: right;\n",
       "    }\n",
       "</style>\n",
       "<table border=\"1\" class=\"dataframe\">\n",
       "  <thead>\n",
       "    <tr style=\"text-align: right;\">\n",
       "      <th></th>\n",
       "      <th>ID</th>\n",
       "      <th>Bio Quiz</th>\n",
       "      <th>Chem Quiz</th>\n",
       "      <th>Phy Quiz</th>\n",
       "      <th>Math Quiz</th>\n",
       "      <th>Bio Hw</th>\n",
       "      <th>Chem Hw</th>\n",
       "      <th>Phy Hw</th>\n",
       "      <th>Math Hw</th>\n",
       "      <th>Bio Attnd</th>\n",
       "      <th>...</th>\n",
       "      <th>Phy Exam</th>\n",
       "      <th>Math Exam</th>\n",
       "      <th>Bio Avg</th>\n",
       "      <th>Chem Avg</th>\n",
       "      <th>Phy Avg</th>\n",
       "      <th>Math Avg</th>\n",
       "      <th>Avg Score</th>\n",
       "      <th>GPA</th>\n",
       "      <th>Grade</th>\n",
       "      <th>status</th>\n",
       "    </tr>\n",
       "    <tr>\n",
       "      <th>Name</th>\n",
       "      <th></th>\n",
       "      <th></th>\n",
       "      <th></th>\n",
       "      <th></th>\n",
       "      <th></th>\n",
       "      <th></th>\n",
       "      <th></th>\n",
       "      <th></th>\n",
       "      <th></th>\n",
       "      <th></th>\n",
       "      <th></th>\n",
       "      <th></th>\n",
       "      <th></th>\n",
       "      <th></th>\n",
       "      <th></th>\n",
       "      <th></th>\n",
       "      <th></th>\n",
       "      <th></th>\n",
       "      <th></th>\n",
       "      <th></th>\n",
       "      <th></th>\n",
       "    </tr>\n",
       "  </thead>\n",
       "  <tbody>\n",
       "    <tr>\n",
       "      <th>Bett James</th>\n",
       "      <td>GR-0438</td>\n",
       "      <td>184</td>\n",
       "      <td>127</td>\n",
       "      <td>52</td>\n",
       "      <td>133</td>\n",
       "      <td>186</td>\n",
       "      <td>135</td>\n",
       "      <td>142</td>\n",
       "      <td>97</td>\n",
       "      <td>58</td>\n",
       "      <td>...</td>\n",
       "      <td>73</td>\n",
       "      <td>45</td>\n",
       "      <td>92.7</td>\n",
       "      <td>52.62</td>\n",
       "      <td>54.44</td>\n",
       "      <td>52.26</td>\n",
       "      <td>63.005</td>\n",
       "      <td>3.15</td>\n",
       "      <td>D</td>\n",
       "      <td>Pass</td>\n",
       "    </tr>\n",
       "  </tbody>\n",
       "</table>\n",
       "<p>1 rows × 25 columns</p>\n",
       "</div>"
      ],
      "text/plain": [
       "                 ID  Bio Quiz  Chem Quiz  Phy Quiz  Math Quiz  Bio Hw  \\\n",
       "Name                                                                    \n",
       "Bett James  GR-0438       184        127        52        133     186   \n",
       "\n",
       "            Chem Hw  Phy Hw  Math Hw  Bio Attnd  ...  Phy Exam  Math Exam  \\\n",
       "Name                                             ...                        \n",
       "Bett James      135     142       97         58  ...        73         45   \n",
       "\n",
       "            Bio Avg  Chem Avg  Phy Avg  Math Avg  Avg Score   GPA  Grade  \\\n",
       "Name                                                                       \n",
       "Bett James     92.7     52.62    54.44     52.26     63.005  3.15      D   \n",
       "\n",
       "            status  \n",
       "Name                \n",
       "Bett James    Pass  \n",
       "\n",
       "[1 rows x 25 columns]"
      ]
     },
     "execution_count": 107,
     "metadata": {},
     "output_type": "execute_result"
    }
   ],
   "source": [
    "BL"
   ]
  },
  {
   "cell_type": "code",
   "execution_count": null,
   "id": "755fa464",
   "metadata": {},
   "outputs": [],
   "source": []
  }
 ],
 "metadata": {
  "kernelspec": {
   "display_name": "Python 3 (ipykernel)",
   "language": "python",
   "name": "python3"
  },
  "language_info": {
   "codemirror_mode": {
    "name": "ipython",
    "version": 3
   },
   "file_extension": ".py",
   "mimetype": "text/x-python",
   "name": "python",
   "nbconvert_exporter": "python",
   "pygments_lexer": "ipython3",
   "version": "3.9.7"
  }
 },
 "nbformat": 4,
 "nbformat_minor": 5
}
